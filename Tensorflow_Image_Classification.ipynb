{
 "cells": [
  {
   "cell_type": "code",
   "execution_count": 93,
   "metadata": {},
   "outputs": [],
   "source": [
    "!pip install -U -q kaggle"
   ]
  },
  {
   "cell_type": "code",
   "execution_count": 94,
   "metadata": {},
   "outputs": [
    {
     "name": "stderr",
     "output_type": "stream",
     "text": [
      "子目录或文件 data_kaggle 已经存在。\n"
     ]
    }
   ],
   "source": [
    "!mkdir data_kaggle"
   ]
  },
  {
   "cell_type": "code",
   "execution_count": 95,
   "metadata": {},
   "outputs": [
    {
     "name": "stderr",
     "output_type": "stream",
     "text": [
      "Traceback (most recent call last):\n",
      "  File \"d:\\anaconda3\\lib\\runpy.py\", line 193, in _run_module_as_main\n",
      "    \"__main__\", mod_spec)\n",
      "  File \"d:\\anaconda3\\lib\\runpy.py\", line 85, in _run_code\n",
      "    exec(code, run_globals)\n",
      "  File \"D:\\Anaconda3\\Scripts\\kaggle.exe\\__main__.py\", line 5, in <module>\n",
      "  File \"d:\\anaconda3\\lib\\site-packages\\kaggle\\__init__.py\", line 23, in <module>\n",
      "    api.authenticate()\n",
      "  File \"d:\\anaconda3\\lib\\site-packages\\kaggle\\api\\kaggle_api_extended.py\", line 149, in authenticate\n",
      "    self.config_file, self.config_dir))\n",
      "OSError: Could not find kaggle.json. Make sure it's located in C:\\Users\\win10-zw\\.kaggle. Or use the environment method.\n"
     ]
    }
   ],
   "source": [
    "!kaggle competitions download -c aerial-cactus-identification -p data_kaggle"
   ]
  },
  {
   "cell_type": "code",
   "execution_count": 88,
   "metadata": {},
   "outputs": [
    {
     "name": "stdout",
     "output_type": "stream",
     "text": [
      "1.15.0\n"
     ]
    }
   ],
   "source": [
    "import tensorflow as tf\n",
    "import pandas as pd\n",
    "import matplotlib.pyplot as plt\n",
    "from sklearn.model_selection import train_test_split\n",
    "from IPython.display import Image, display\n",
    "\n",
    "print(tf.__version__)"
   ]
  },
  {
   "cell_type": "code",
   "execution_count": 96,
   "metadata": {},
   "outputs": [],
   "source": [
    "# display(Image(''))\n",
    "train_csv = pd.read_csv('data_kaggle/train.csv')\n",
    "# train_csv['id'].tolist()"
   ]
  },
  {
   "cell_type": "code",
   "execution_count": 100,
   "metadata": {},
   "outputs": [],
   "source": [
    "filename = ['C:/Users/win10-zw/data_kaggle/train/' + fname for fname in train_csv['id'].tolist()]\n",
    "label = train_csv['has_cactus'].tolist()"
   ]
  },
  {
   "cell_type": "code",
   "execution_count": 101,
   "metadata": {},
   "outputs": [],
   "source": [
    "train_file, val_file, train_label, val_label = train_test_split(filename, label, train_size = 0.8, random_state = 420)"
   ]
  },
  {
   "cell_type": "code",
   "execution_count": 103,
   "metadata": {},
   "outputs": [],
   "source": [
    "image_size = 96"
   ]
  },
  {
   "cell_type": "code",
   "execution_count": 109,
   "metadata": {},
   "outputs": [],
   "source": [
    "def _parse_fn(filename, label):\n",
    "    image_string = tf.io.read_file(filename)\n",
    "    image_decoded = tf.image.decode_jpeg(image_string)\n",
    "    image_normalized  = (tf.cast(image_decoded, tf.float32)/127.5)-1\n",
    "    image_resized = tf.image.resize(image_normalized, (image_size, image_size)) \n",
    "    return image_resized, label"
   ]
  },
  {
   "cell_type": "code",
   "execution_count": 110,
   "metadata": {},
   "outputs": [
    {
     "name": "stdout",
     "output_type": "stream",
     "text": [
      "WARNING:tensorflow:Entity <function _parse_fn at 0x0000023D0A5B9C80> could not be transformed and will be executed as-is. Please report this to the AutoGraph team. When filing the bug, set the verbosity to 10 (on Linux, `export AUTOGRAPH_VERBOSITY=10`) and attach the full output. Cause: Bad argument number for Name: 3, expecting 4\n",
      "WARNING: Entity <function _parse_fn at 0x0000023D0A5B9C80> could not be transformed and will be executed as-is. Please report this to the AutoGraph team. When filing the bug, set the verbosity to 10 (on Linux, `export AUTOGRAPH_VERBOSITY=10`) and attach the full output. Cause: Bad argument number for Name: 3, expecting 4\n",
      "WARNING:tensorflow:From D:\\Anaconda3\\lib\\site-packages\\tensorflow_core\\python\\data\\util\\random_seed.py:58: where (from tensorflow.python.ops.array_ops) is deprecated and will be removed in a future version.\n",
      "Instructions for updating:\n",
      "Use tf.where in 2.0, which has the same broadcast rule as np.where\n"
     ]
    }
   ],
   "source": [
    "batch_size = 32\n",
    "train_data = tf.data.Dataset.from_tensor_slices((tf.constant(train_file), tf.constant(train_label))).map(_parse_fn).shuffle(buffer_size=10000).batch(batch_size)"
   ]
  },
  {
   "cell_type": "code",
   "execution_count": 111,
   "metadata": {},
   "outputs": [],
   "source": [
    "val_data = tf.data.Dataset.from_tensor_slices((tf.constant(val_file), tf.constant(val_label))).map(_parse_fn).batch(batch_size)"
   ]
  },
  {
   "cell_type": "markdown",
   "metadata": {},
   "source": [
    "Model defineition"
   ]
  },
  {
   "cell_type": "code",
   "execution_count": 114,
   "metadata": {},
   "outputs": [
    {
     "name": "stdout",
     "output_type": "stream",
     "text": [
      "WARNING:tensorflow:From D:\\Anaconda3\\lib\\site-packages\\tensorflow_core\\python\\ops\\resource_variable_ops.py:1630: calling BaseResourceVariable.__init__ (from tensorflow.python.ops.resource_variable_ops) with constraint is deprecated and will be removed in a future version.\n",
      "Instructions for updating:\n",
      "If using Keras pass *_constraint arguments to layers.\n",
      "Downloading data from https://github.com/fchollet/deep-learning-models/releases/download/v0.1/vgg19_weights_tf_dim_ordering_tf_kernels_notop.h5\n",
      "80142336/80134624 [==============================] - 21s 0us/step\n"
     ]
    }
   ],
   "source": [
    "image_shape = (image_size, image_size, 3)\n",
    "model = tf.keras.applications.VGG19(include_top=False,\n",
    "          input_tensor=None, input_shape=None,\n",
    "          pooling=None,\n",
    "          classes=2)"
   ]
  },
  {
   "cell_type": "code",
   "execution_count": 115,
   "metadata": {},
   "outputs": [],
   "source": [
    "model.trainable=False"
   ]
  },
  {
   "cell_type": "code",
   "execution_count": 117,
   "metadata": {},
   "outputs": [],
   "source": [
    "maxpool_layer= tf.keras.layers.GlobalAveragePooling2D()\n",
    "prediction_layer = tf.keras.layers.Dense(1, activation='sigmoid')\n",
    "learning_rate = 0.0001\n",
    "model = tf.keras.Sequential([model, maxpool_layer, prediction_layer])"
   ]
  },
  {
   "cell_type": "code",
   "execution_count": 120,
   "metadata": {},
   "outputs": [
    {
     "name": "stdout",
     "output_type": "stream",
     "text": [
      "Model: \"sequential\"\n",
      "_________________________________________________________________\n",
      "Layer (type)                 Output Shape              Param #   \n",
      "=================================================================\n",
      "vgg19 (Model)                (None, None, None, 512)   20024384  \n",
      "_________________________________________________________________\n",
      "global_average_pooling2d_7 ( (None, 512)               0         \n",
      "_________________________________________________________________\n",
      "dense_1 (Dense)              (None, 1)                 513       \n",
      "=================================================================\n",
      "Total params: 20,024,897\n",
      "Trainable params: 513\n",
      "Non-trainable params: 20,024,384\n",
      "_________________________________________________________________\n"
     ]
    }
   ],
   "source": [
    "model.compile(optimizer=tf.keras.optimizers.Adam(lr = learning_rate),\n",
    "             loss = 'binary_crossentropy',\n",
    "             metrics = ['accuracy'])\n",
    "model.summary()"
   ]
  },
  {
   "cell_type": "markdown",
   "metadata": {},
   "source": [
    "Training_process"
   ]
  },
  {
   "cell_type": "code",
   "execution_count": 121,
   "metadata": {},
   "outputs": [],
   "source": [
    "num_train = len(train_file)\n",
    "num_epoch = 30\n",
    "step = round(num_train)//batch_size\n",
    "val_step = 20"
   ]
  },
  {
   "cell_type": "code",
   "execution_count": 122,
   "metadata": {
    "scrolled": true
   },
   "outputs": [
    {
     "name": "stdout",
     "output_type": "stream",
     "text": [
      "Train on 437 steps, validate on 20 steps\n",
      "Epoch 1/30\n",
      "437/437 [==============================] - 411s 940ms/step - loss: 0.4901 - acc: 0.7525 - val_loss: 0.4572 - val_acc: 0.7437\n",
      "Epoch 2/30\n",
      "437/437 [==============================] - 424s 970ms/step - loss: 0.4081 - acc: 0.7567 - val_loss: 0.3868 - val_acc: 0.7547\n",
      "Epoch 3/30\n",
      "437/437 [==============================] - 382s 875ms/step - loss: 0.3481 - acc: 0.8211 - val_loss: 0.3348 - val_acc: 0.8656\n",
      "Epoch 4/30\n",
      "437/437 [==============================] - 385s 881ms/step - loss: 0.3024 - acc: 0.8948 - val_loss: 0.2956 - val_acc: 0.9141\n",
      "Epoch 5/30\n",
      "437/437 [==============================] - 386s 884ms/step - loss: 0.2689 - acc: 0.9260 - val_loss: 0.2656 - val_acc: 0.9391\n",
      "Epoch 6/30\n",
      "437/437 [==============================] - 387s 886ms/step - loss: 0.2418 - acc: 0.9424 - val_loss: 0.2427 - val_acc: 0.9406\n",
      "Epoch 7/30\n",
      "437/437 [==============================] - 385s 880ms/step - loss: 0.2216 - acc: 0.9487 - val_loss: 0.2242 - val_acc: 0.9469\n",
      "Epoch 8/30\n",
      "437/437 [==============================] - 393s 900ms/step - loss: 0.2029 - acc: 0.9544 - val_loss: 0.2085 - val_acc: 0.9469\n",
      "Epoch 9/30\n",
      "437/437 [==============================] - 397s 908ms/step - loss: 0.1904 - acc: 0.9562 - val_loss: 0.1960 - val_acc: 0.9484\n",
      "Epoch 10/30\n",
      "437/437 [==============================] - 394s 901ms/step - loss: 0.1785 - acc: 0.9590 - val_loss: 0.1857 - val_acc: 0.9484\n",
      "Epoch 11/30\n",
      "437/437 [==============================] - 400s 916ms/step - loss: 0.1690 - acc: 0.9594 - val_loss: 0.1766 - val_acc: 0.9500\n",
      "Epoch 12/30\n",
      "437/437 [==============================] - 401s 919ms/step - loss: 0.1595 - acc: 0.9611 - val_loss: 0.1681 - val_acc: 0.9484\n",
      "Epoch 13/30\n",
      "437/437 [==============================] - 420s 960ms/step - loss: 0.1535 - acc: 0.9610 - val_loss: 0.1618 - val_acc: 0.9500\n",
      "Epoch 14/30\n",
      "437/437 [==============================] - 464s 1s/step - loss: 0.1457 - acc: 0.9631 - val_loss: 0.1566 - val_acc: 0.9547\n",
      "Epoch 15/30\n",
      "437/437 [==============================] - 391s 896ms/step - loss: 0.1411 - acc: 0.9631 - val_loss: 0.1512 - val_acc: 0.9547\n",
      "Epoch 16/30\n",
      "437/437 [==============================] - 414s 947ms/step - loss: 0.1362 - acc: 0.9632 - val_loss: 0.1458 - val_acc: 0.9500\n",
      "Epoch 17/30\n",
      "437/437 [==============================] - 392s 897ms/step - loss: 0.1316 - acc: 0.9633 - val_loss: 0.1429 - val_acc: 0.9531\n",
      "Epoch 18/30\n",
      "437/437 [==============================] - 392s 898ms/step - loss: 0.1281 - acc: 0.9634 - val_loss: 0.1394 - val_acc: 0.9531\n",
      "Epoch 19/30\n",
      "437/437 [==============================] - 395s 904ms/step - loss: 0.1242 - acc: 0.9643 - val_loss: 0.1357 - val_acc: 0.9531\n",
      "Epoch 20/30\n",
      "437/437 [==============================] - 392s 898ms/step - loss: 0.1212 - acc: 0.9650 - val_loss: 0.1327 - val_acc: 0.9531\n",
      "Epoch 21/30\n",
      "437/437 [==============================] - 389s 891ms/step - loss: 0.1183 - acc: 0.9638 - val_loss: 0.1299 - val_acc: 0.9547\n",
      "Epoch 22/30\n",
      "437/437 [==============================] - 391s 894ms/step - loss: 0.1159 - acc: 0.9657 - val_loss: 0.1276 - val_acc: 0.9547\n",
      "Epoch 23/30\n",
      "437/437 [==============================] - 392s 898ms/step - loss: 0.1148 - acc: 0.9649 - val_loss: 0.1256 - val_acc: 0.9547\n",
      "Epoch 24/30\n",
      "437/437 [==============================] - 393s 899ms/step - loss: 0.1114 - acc: 0.9653 - val_loss: 0.1230 - val_acc: 0.9563\n",
      "Epoch 25/30\n",
      "437/437 [==============================] - 411s 941ms/step - loss: 0.1095 - acc: 0.9668 - val_loss: 0.1213 - val_acc: 0.9531\n",
      "Epoch 26/30\n",
      "437/437 [==============================] - 414s 947ms/step - loss: 0.1073 - acc: 0.9665 - val_loss: 0.1195 - val_acc: 0.9547\n",
      "Epoch 27/30\n",
      "437/437 [==============================] - 405s 926ms/step - loss: 0.1056 - acc: 0.9670 - val_loss: 0.1183 - val_acc: 0.9563\n",
      "Epoch 28/30\n",
      "437/437 [==============================] - 406s 929ms/step - loss: 0.1049 - acc: 0.9666 - val_loss: 0.1164 - val_acc: 0.9563\n",
      "Epoch 29/30\n",
      "437/437 [==============================] - 405s 927ms/step - loss: 0.1028 - acc: 0.9672 - val_loss: 0.1150 - val_acc: 0.9563\n",
      "Epoch 30/30\n",
      "437/437 [==============================] - 404s 925ms/step - loss: 0.1010 - acc: 0.9679 - val_loss: 0.1134 - val_acc: 0.9563\n"
     ]
    }
   ],
   "source": [
    "history = model.fit(train_data.repeat(),\n",
    "                    epochs = num_epoch, \n",
    "                    steps_per_epoch= step,\n",
    "                    validation_data=val_data.repeat(),\n",
    "                    validation_steps=val_step\n",
    "                   )"
   ]
  },
  {
   "cell_type": "code",
   "execution_count": 133,
   "metadata": {},
   "outputs": [
    {
     "data": {
      "text/plain": [
       "{'loss': [0.4901368762249259,\n",
       "  0.4081157387598701,\n",
       "  0.34806065067001013,\n",
       "  0.30235342313141245,\n",
       "  0.26889301127236276,\n",
       "  0.2418110349153763,\n",
       "  0.22158895809740442,\n",
       "  0.20294503852281745,\n",
       "  0.19044634461130103,\n",
       "  0.17847137954469677,\n",
       "  0.16899552511677862,\n",
       "  0.15947909037704053,\n",
       "  0.15351188854576522,\n",
       "  0.1456824950788605,\n",
       "  0.14108128683722537,\n",
       "  0.13624211236220748,\n",
       "  0.1316151032970208,\n",
       "  0.1281045067296694,\n",
       "  0.12415568890301532,\n",
       "  0.12116574610261677,\n",
       "  0.11831577123063926,\n",
       "  0.1159389365711665,\n",
       "  0.11479430493112287,\n",
       "  0.11137839715322587,\n",
       "  0.10947692283435599,\n",
       "  0.10730291509604427,\n",
       "  0.10564681397883106,\n",
       "  0.10489822781348529,\n",
       "  0.10284327465435597,\n",
       "  0.1009769284121641],\n",
       " 'acc': [0.75250286,\n",
       "  0.7566581,\n",
       "  0.82109106,\n",
       "  0.8947595,\n",
       "  0.92597365,\n",
       "  0.94236827,\n",
       "  0.94866836,\n",
       "  0.9543958,\n",
       "  0.9561856,\n",
       "  0.95897764,\n",
       "  0.9594072,\n",
       "  0.96105385,\n",
       "  0.96098226,\n",
       "  0.9630584,\n",
       "  0.96313,\n",
       "  0.9632016,\n",
       "  0.9633448,\n",
       "  0.9634164,\n",
       "  0.9642755,\n",
       "  0.9649914,\n",
       "  0.9638459,\n",
       "  0.9657073,\n",
       "  0.9649198,\n",
       "  0.9652778,\n",
       "  0.9667812,\n",
       "  0.96649486,\n",
       "  0.966996,\n",
       "  0.966638,\n",
       "  0.96721077,\n",
       "  0.9679267],\n",
       " 'val_loss': [0.4571564257144928,\n",
       "  0.3868216410279274,\n",
       "  0.3347732737660408,\n",
       "  0.2956055089831352,\n",
       "  0.2656188324093819,\n",
       "  0.24266223534941672,\n",
       "  0.2241637110710144,\n",
       "  0.20851285755634308,\n",
       "  0.19600947946310043,\n",
       "  0.1857278749346733,\n",
       "  0.176596874371171,\n",
       "  0.16811573281884193,\n",
       "  0.16175150610506533,\n",
       "  0.15663186833262444,\n",
       "  0.15124892629683018,\n",
       "  0.14584198221564293,\n",
       "  0.14290279820561408,\n",
       "  0.13938720524311066,\n",
       "  0.13568102680146693,\n",
       "  0.13270476683974267,\n",
       "  0.12985917273908854,\n",
       "  0.12759851422160864,\n",
       "  0.12559761870652436,\n",
       "  0.1230332350358367,\n",
       "  0.12130719460546971,\n",
       "  0.11948514077812433,\n",
       "  0.11826280206441879,\n",
       "  0.11644773986190557,\n",
       "  0.11501172222197056,\n",
       "  0.113418323174119],\n",
       " 'val_acc': [0.74375,\n",
       "  0.7546875,\n",
       "  0.865625,\n",
       "  0.9140625,\n",
       "  0.9390625,\n",
       "  0.940625,\n",
       "  0.946875,\n",
       "  0.946875,\n",
       "  0.9484375,\n",
       "  0.9484375,\n",
       "  0.95,\n",
       "  0.9484375,\n",
       "  0.95,\n",
       "  0.9546875,\n",
       "  0.9546875,\n",
       "  0.95,\n",
       "  0.953125,\n",
       "  0.953125,\n",
       "  0.953125,\n",
       "  0.953125,\n",
       "  0.9546875,\n",
       "  0.9546875,\n",
       "  0.9546875,\n",
       "  0.95625,\n",
       "  0.953125,\n",
       "  0.9546875,\n",
       "  0.95625,\n",
       "  0.95625,\n",
       "  0.95625,\n",
       "  0.95625]}"
      ]
     },
     "execution_count": 133,
     "metadata": {},
     "output_type": "execute_result"
    }
   ],
   "source": [
    "history.history"
   ]
  },
  {
   "cell_type": "code",
   "execution_count": 138,
   "metadata": {},
   "outputs": [
    {
     "data": {
      "text/plain": [
       "Text(0.5, 1.0, 'Accuracy of training and validation')"
      ]
     },
     "execution_count": 138,
     "metadata": {},
     "output_type": "execute_result"
    },
    {
     "data": {
      "image/png": "[encoded data removed]",
      "text/plain": [
       "<Figure size 576x576 with 1 Axes>"
      ]
     },
     "metadata": {
      "needs_background": "light"
     },
     "output_type": "display_data"
    }
   ],
   "source": [
    "train_acc = history.history['acc']\n",
    "val_acc = history.history['val_acc']\n",
    "\n",
    "loss=history.history['loss']\n",
    "val_loss = history.history['val_loss']\n",
    "\n",
    "plt.figure(figsize = (8,8))\n",
    "plt.subplot(2,1,1)\n",
    "plt.plot(train_acc, label='Training,Accuracy')\n",
    "plt.plot(val_acc, label='Validation Accuracy')\n",
    "plt.legend(loc='lower right')\n",
    "plt.ylabel('Accuracy')\n",
    "plt.title('Accuracy of training and validation')\n",
    "\n"
   ]
  },
  {
   "cell_type": "code",
   "execution_count": 139,
   "metadata": {},
   "outputs": [
    {
     "data": {
      "image/png": "[encoded data removed]",
      "text/plain": [
       "<Figure size 432x288 with 1 Axes>"
      ]
     },
     "metadata": {
      "needs_background": "light"
     },
     "output_type": "display_data"
    }
   ],
   "source": [
    "plt.subplot(2, 1, 2)\n",
    "plt.plot(loss, label='Training Loss')\n",
    "plt.plot(val_loss, label='Validation Loss')\n",
    "plt.legend(loc='upper right')\n",
    "plt.ylabel('Cross Entropy')\n",
    "plt.title('Training and Validation Loss')\n",
    "plt.xlabel('epoch')\n",
    "plt.show()"
   ]
  },
  {
   "cell_type": "code",
   "execution_count": 127,
   "metadata": {},
   "outputs": [],
   "source": [
    "model.save_weights('weights_epoch_30.h5')"
   ]
  },
  {
   "cell_type": "markdown",
   "metadata": {},
   "source": [
    "fine_tune"
   ]
  },
  {
   "cell_type": "code",
   "execution_count": 140,
   "metadata": {},
   "outputs": [],
   "source": [
    "model.trainable = True\n",
    "for layer in model.layers[:100]:\n",
    "    layer.trainable = False"
   ]
  },
  {
   "cell_type": "code",
   "execution_count": 141,
   "metadata": {},
   "outputs": [
    {
     "data": {
      "text/plain": [
       "<bound method Network.summary of <tensorflow.python.keras.engine.sequential.Sequential object at 0x0000023D1632D9E8>>"
      ]
     },
     "execution_count": 141,
     "metadata": {},
     "output_type": "execute_result"
    }
   ],
   "source": [
    "model.compile(loss = 'binary_crossentropy',\n",
    "             optimizer = tf.keras.optimizers.Adam(lr=learning_rate/10),\n",
    "                                                 metrics = ['accuracy'])\n",
    "model.summary"
   ]
  },
  {
   "cell_type": "code",
   "execution_count": 142,
   "metadata": {
    "scrolled": true
   },
   "outputs": [
    {
     "name": "stdout",
     "output_type": "stream",
     "text": [
      "Train on 437 steps, validate on 20 steps\n",
      "Epoch 31/60\n",
      "437/437 [==============================] - 533s 1s/step - loss: 0.1007 - acc: 0.9682 - val_loss: 0.1134 - val_acc: 0.9563\n",
      "Epoch 32/60\n",
      "437/437 [==============================] - 464s 1s/step - loss: 0.1008 - acc: 0.9681 - val_loss: 0.1134 - val_acc: 0.9563\n",
      "Epoch 33/60\n",
      "437/437 [==============================] - 430s 983ms/step - loss: 0.1007 - acc: 0.9681 - val_loss: 0.1134 - val_acc: 0.9563\n",
      "Epoch 34/60\n",
      "437/437 [==============================] - 423s 968ms/step - loss: 0.1007 - acc: 0.9681 - val_loss: 0.1134 - val_acc: 0.9563\n",
      "Epoch 35/60\n",
      "437/437 [==============================] - 432s 989ms/step - loss: 0.1008 - acc: 0.9682 - val_loss: 0.1134 - val_acc: 0.9563\n",
      "Epoch 36/60\n",
      "437/437 [==============================] - 448s 1s/step - loss: 0.1005 - acc: 0.9681 - val_loss: 0.1134 - val_acc: 0.9563\n",
      "Epoch 37/60\n",
      "437/437 [==============================] - 447s 1s/step - loss: 0.1011 - acc: 0.9680 - val_loss: 0.1134 - val_acc: 0.9563\n",
      "Epoch 38/60\n",
      "437/437 [==============================] - 465s 1s/step - loss: 0.0997 - acc: 0.9687 - val_loss: 0.1134 - val_acc: 0.9563\n",
      "Epoch 39/60\n",
      "437/437 [==============================] - 470s 1s/step - loss: 0.1012 - acc: 0.9675 - val_loss: 0.1134 - val_acc: 0.9563\n",
      "Epoch 40/60\n",
      "437/437 [==============================] - 461s 1s/step - loss: 0.1003 - acc: 0.9684 - val_loss: 0.1134 - val_acc: 0.9563\n",
      "Epoch 41/60\n",
      "437/437 [==============================] - 449s 1s/step - loss: 0.1016 - acc: 0.9679 - val_loss: 0.1134 - val_acc: 0.9563\n",
      "Epoch 42/60\n",
      "437/437 [==============================] - 584s 1s/step - loss: 0.1001 - acc: 0.9687 - val_loss: 0.1134 - val_acc: 0.9563\n",
      "Epoch 43/60\n",
      "437/437 [==============================] - 461s 1s/step - loss: 0.1013 - acc: 0.9675 - val_loss: 0.1134 - val_acc: 0.9563\n",
      "Epoch 44/60\n",
      "437/437 [==============================] - 449s 1s/step - loss: 0.0998 - acc: 0.9686 - val_loss: 0.1134 - val_acc: 0.9563\n",
      "Epoch 45/60\n",
      "437/437 [==============================] - 526s 1s/step - loss: 0.1010 - acc: 0.9681 - val_loss: 0.1134 - val_acc: 0.9563\n",
      "Epoch 46/60\n",
      "437/437 [==============================] - 481s 1s/step - loss: 0.1008 - acc: 0.9681 - val_loss: 0.1134 - val_acc: 0.9563\n",
      "Epoch 47/60\n",
      "437/437 [==============================] - 615s 1s/step - loss: 0.1005 - acc: 0.9683 - val_loss: 0.1134 - val_acc: 0.9563\n",
      "Epoch 48/60\n",
      "437/437 [==============================] - 462s 1s/step - loss: 0.1011 - acc: 0.9677 - val_loss: 0.1134 - val_acc: 0.9563\n",
      "Epoch 49/60\n",
      "437/437 [==============================] - 527s 1s/step - loss: 0.1002 - acc: 0.9685 - val_loss: 0.1134 - val_acc: 0.9563\n",
      "Epoch 50/60\n",
      "437/437 [==============================] - 497s 1s/step - loss: 0.1003 - acc: 0.9685 - val_loss: 0.1134 - val_acc: 0.9563\n",
      "Epoch 51/60\n",
      "437/437 [==============================] - 498s 1s/step - loss: 0.1006 - acc: 0.9678 - val_loss: 0.1134 - val_acc: 0.9563\n",
      "Epoch 52/60\n",
      "437/437 [==============================] - 466s 1s/step - loss: 0.1008 - acc: 0.9686 - val_loss: 0.1134 - val_acc: 0.9563\n",
      "Epoch 53/60\n",
      "437/437 [==============================] - 502s 1s/step - loss: 0.1018 - acc: 0.9676 - val_loss: 0.1134 - val_acc: 0.9563\n",
      "Epoch 54/60\n",
      "437/437 [==============================] - 515s 1s/step - loss: 0.1006 - acc: 0.9677 - val_loss: 0.1134 - val_acc: 0.9563\n",
      "Epoch 55/60\n",
      "437/437 [==============================] - 458s 1s/step - loss: 0.1007 - acc: 0.9684 - val_loss: 0.1134 - val_acc: 0.9563\n",
      "Epoch 56/60\n",
      "437/437 [==============================] - 449s 1s/step - loss: 0.1003 - acc: 0.9683 - val_loss: 0.1134 - val_acc: 0.9563\n",
      "Epoch 57/60\n",
      "437/437 [==============================] - 446s 1s/step - loss: 0.1005 - acc: 0.9685 - val_loss: 0.1134 - val_acc: 0.9563\n",
      "Epoch 58/60\n",
      "437/437 [==============================] - 488s 1s/step - loss: 0.1012 - acc: 0.9676 - val_loss: 0.1134 - val_acc: 0.9563\n",
      "Epoch 59/60\n",
      "437/437 [==============================] - 457s 1s/step - loss: 0.1007 - acc: 0.9681 - val_loss: 0.1134 - val_acc: 0.9563\n",
      "Epoch 60/60\n",
      "437/437 [==============================] - 428s 979ms/step - loss: 0.1002 - acc: 0.9679 - val_loss: 0.1134 - val_acc: 0.9563\n"
     ]
    }
   ],
   "source": [
    "fine_tune_epochs = 30\n",
    "total_epochs = num_epoch+fine_tune_epochs\n",
    "history_fine = model.fit(train_data.repeat(),\n",
    "                        steps_per_epoch=step,\n",
    "                        epochs = total_epochs,\n",
    "                        initial_epoch=num_epoch,\n",
    "                        validation_data=val_data.repeat(),\n",
    "                        validation_steps=val_step)"
   ]
  },
  {
   "cell_type": "code",
   "execution_count": 143,
   "metadata": {},
   "outputs": [],
   "source": [
    "model.save_weights('weights_epoch_50_finetuned.h5')"
   ]
  },
  {
   "cell_type": "code",
   "execution_count": 148,
   "metadata": {
    "scrolled": false
   },
   "outputs": [
    {
     "data": {
      "image/png": "[encoded data removed]",
      "text/plain": [
       "<Figure size 576x576 with 2 Axes>"
      ]
     },
     "metadata": {
      "needs_background": "light"
     },
     "output_type": "display_data"
    }
   ],
   "source": [
    "train_acc += history_fine.history['acc']\n",
    "val_acc += history_fine.history['val_acc']\n",
    "\n",
    "loss += history_fine.history['loss']\n",
    "val_loss += history_fine.history['val_loss']\n",
    "\n",
    "plt.figure(figsize=(8, 8))\n",
    "plt.subplot(2, 1, 1)\n",
    "plt.plot(train_acc, label='Training Accuracy')\n",
    "plt.plot(val_acc, label='Validation Accuracy')\n",
    "plt.plot([num_epoch-1,num_epoch-1], \n",
    "          plt.ylim(), label='Start Fine Tuning')\n",
    "plt.legend(loc='lower right')\n",
    "plt.title('Training and Validation Accuracy')\n",
    "\n",
    "plt.subplot(2, 1, 2)\n",
    "plt.plot(loss, label='Training Loss')\n",
    "plt.plot(val_loss, label='Validation Loss')\n",
    "plt.plot([num_epoch-1,num_epoch-1], \n",
    "         plt.ylim(), label='Start Fine Tuning')\n",
    "plt.legend(loc='upper right')\n",
    "plt.title('Training and Validation Loss')\n",
    "plt.xlabel('epoch')\n",
    "plt.show()\n",
    "\n"
   ]
  },
  {
   "cell_type": "code",
   "execution_count": 150,
   "metadata": {},
   "outputs": [],
   "source": [
    "import cv2\n",
    "test_image = cv2.imread('C:/Users/win10-zw/data_kaggle/test/00a36d4d6d152404670276fc983273bc.jpg')"
   ]
  },
  {
   "cell_type": "code",
   "execution_count": 153,
   "metadata": {},
   "outputs": [
    {
     "data": {
      "text/plain": [
       "array([[1.]], dtype=float32)"
      ]
     },
     "execution_count": 153,
     "metadata": {},
     "output_type": "execute_result"
    }
   ],
   "source": [
    "test_image=test_image.reshape(1,32,32,3)\n",
    "model.predict(test_image)"
   ]
  },
  {
   "cell_type": "code",
   "execution_count": null,
   "metadata": {},
   "outputs": [],
   "source": []
  },
  {
   "cell_type": "code",
   "execution_count": null,
   "metadata": {},
   "outputs": [],
   "source": []
  }
 ],
 "metadata": {
  "kernelspec": {
   "display_name": "Python 3",
   "language": "python",
   "name": "python3"
  },
  "language_info": {
   "codemirror_mode": {
    "name": "ipython",
    "version": 3
   },
   "file_extension": ".py",
   "mimetype": "text/x-python",
   "name": "python",
   "nbconvert_exporter": "python",
   "pygments_lexer": "ipython3",
   "version": "3.7.1"
  }
 },
 "nbformat": 4,
 "nbformat_minor": 2
}
