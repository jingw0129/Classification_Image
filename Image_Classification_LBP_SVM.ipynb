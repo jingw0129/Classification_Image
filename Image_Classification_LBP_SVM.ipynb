{
 "cells": [
  {
   "cell_type": "code",
   "execution_count": 174,
   "metadata": {},
   "outputs": [],
   "source": [
    "import numpy as np\n",
    "import cv2\n",
    "import os\n",
    "import pandas as pd\n",
    "from skimage import io, transform, color, measure, segmentation, morphology, feature\n",
    "from sklearn import svm, multiclass, model_selection\n",
    "import csv\n",
    "import matplotlib.pyplot as plt"
   ]
  },
  {
   "cell_type": "markdown",
   "metadata": {},
   "source": [
    "LBP 的特征提取使用skimage里定义好的库"
   ]
  },
  {
   "cell_type": "code",
   "execution_count": 175,
   "metadata": {},
   "outputs": [],
   "source": [
    "# fullfil the space\n",
    "def imfill(im_th):\n",
    "#     print('im_th', im_th)\n",
    "    # im_th 是0 1 整形二值图\n",
    "    # Copy the thresholded imapge.\n",
    "    im_th = np.uint8(im_th)\n",
    "    im_floodfill = im_th.copy()\n",
    "    # Mask used to flood filling.\n",
    "    # Notice the size needs to be 2 pixels than the image.\n",
    "    h, w = im_th.shape[:2]\n",
    "    # print('h '+str(h)+'   w '+str(w))\n",
    "    mask = np.zeros((h + 2, w + 2), np.uint8)\n",
    "    # Floodfill from point (0, 0)\n",
    "    cv2.floodFill(im_floodfill, mask, (0, 0), 1)\n",
    "    # Invert floodfilled image\n",
    "    im_floodfill_inv = cv2.bitwise_not(im_floodfill)\n",
    "    # Combine the two images to get the foreground.\n",
    "    im_out = im_th | im_floodfill_inv\n",
    "#     print('im_out', im_out)\n",
    "    return im_out"
   ]
  },
  {
   "cell_type": "code",
   "execution_count": 184,
   "metadata": {},
   "outputs": [],
   "source": [
    "path_dir = 'E:/pycharm_project/seg_region/pos.csv'"
   ]
  },
  {
   "cell_type": "code",
   "execution_count": 185,
   "metadata": {},
   "outputs": [
    {
     "name": "stderr",
     "output_type": "stream",
     "text": [
      "D:\\Anaconda3\\lib\\site-packages\\ipykernel_launcher.py:1: ParserWarning: Falling back to the 'python' engine because the 'c' engine does not support regex separators (separators > 1 char and different from '\\s+' are interpreted as regex); you can avoid this warning by specifying engine='python'.\n",
      "  \"\"\"Entry point for launching an IPython kernel.\n"
     ]
    }
   ],
   "source": [
    "data = pd.read_csv(path_dir, sep = \"\\s+|\\t+|\\s+\\t+|\\t+\\s+\")"
   ]
  },
  {
   "cell_type": "code",
   "execution_count": 186,
   "metadata": {},
   "outputs": [
    {
     "data": {
      "text/plain": [
       "Index(['path', 'label'], dtype='object')"
      ]
     },
     "execution_count": 186,
     "metadata": {},
     "output_type": "execute_result"
    }
   ],
   "source": [
    "data.columns"
   ]
  },
  {
   "cell_type": "code",
   "execution_count": 187,
   "metadata": {},
   "outputs": [],
   "source": [
    "imgs = data['path'].values"
   ]
  },
  {
   "cell_type": "code",
   "execution_count": 188,
   "metadata": {},
   "outputs": [
    {
     "data": {
      "text/plain": [
       "3129"
      ]
     },
     "execution_count": 188,
     "metadata": {},
     "output_type": "execute_result"
    }
   ],
   "source": [
    "label = data['label'].values\n",
    "len(label)"
   ]
  },
  {
   "cell_type": "code",
   "execution_count": 192,
   "metadata": {},
   "outputs": [
    {
     "name": "stderr",
     "output_type": "stream",
     "text": [
      "D:\\Anaconda3\\lib\\site-packages\\ipykernel_launcher.py:64: VisibleDeprecationWarning: Passing `normed=True` on non-uniform bins has always been broken, and computes neither the probability density function nor the probability mass function. The result is only correct if the bins are uniform, when density=True will produce the same result anyway. The argument will be removed in a future version of numpy.\n"
     ]
    }
   ],
   "source": [
    "Data = []\n",
    "for img in imgs:\n",
    "    img = cv2.imread(img)\n",
    "    gray = color.rgb2gray(img)\n",
    "#     print(gray<100/255) here will print true of false\n",
    "#     set the threshold = 100\n",
    "    bw = (gray<100/255)*1\n",
    "    \n",
    "    img_fill=imfill(bw)\n",
    "    copy_img = img_fill.copy()\n",
    "    # 清除与边界相连的目标物\n",
    "    segmentation.clear_border(copy_img)\n",
    "    # 连通区域标记 \n",
    "    label_img= measure.label(copy_img)\n",
    "    \n",
    "#     remove the background\n",
    "    borders = np.logical_xor(bw, copy_img)\n",
    "    label_img[borders] = -1\n",
    "#   离心率  \n",
    "    eccentricity = 1  \n",
    "    \n",
    "# 循环得到每一个连通区域属性集\n",
    "            # 忽略小区域\n",
    "    for region in measure.regionprops(label_img):\n",
    "#         print(region.area)\n",
    "        if region.area<2000:\n",
    "            continue\n",
    "        \n",
    "#       draw a outbound rectangular      \n",
    "        if eccentricity>region.eccentricity:\n",
    "#             print(region.eccentricity)\n",
    "            eccentricity=region.eccentricity\n",
    "            minr, minc, maxr, maxc = region.bbox\n",
    "#     print(vars())\n",
    "#  判断是否有符合条件的区域。\n",
    "    if 'minr' in vars():\n",
    "        pic = img[minr:maxr, minc: maxc, :]\n",
    "#         plt.imshow(pic)\n",
    "#         plt.show()\n",
    "\n",
    "        pic = transform.resize(pic, [30,30,3])\n",
    "    else:\n",
    "        pic = transform.resize(img, [30,30,3])\n",
    "        \n",
    "        \n",
    "    pic_gray = color.rgb2gray(pic)\n",
    "    rows, cols = pic_gray.shape\n",
    "\n",
    "    radius = 2\n",
    "    n_points = radius*8\n",
    "\n",
    "    lbp_sum = []\n",
    "    for row in range(2):\n",
    "        for col in range(3):\n",
    "            pic_block = pic_gray[(row*rows//2):((row+1)*rows//2-1),\n",
    "                                 (col*col//2):((col+1)*col//2-1)]\n",
    "#             print(pic_block)\n",
    "            lbp = feature.local_binary_pattern(pic_gray, n_points, \n",
    "                                               radius, 'uniform')\n",
    "\n",
    "            lbp_ = lbp.astype(np.int32)\n",
    "            max_bins = int(lbp_.max()+1)\n",
    "            train_hist, _ = np.histogram(lbp_, normed=True, bins=max_bins, \n",
    "                                         range=(0, max_bins))\n",
    "\n",
    "            lbp_sum= lbp_sum+train_hist.tolist()\n",
    "    Data.append(lbp_sum)"
   ]
  },
  {
   "cell_type": "markdown",
   "metadata": {},
   "source": [
    "SVM training process "
   ]
  },
  {
   "cell_type": "code",
   "execution_count": 193,
   "metadata": {},
   "outputs": [
    {
     "data": {
      "text/plain": [
       "3129"
      ]
     },
     "execution_count": 193,
     "metadata": {},
     "output_type": "execute_result"
    }
   ],
   "source": [
    "len(Data)"
   ]
  },
  {
   "cell_type": "code",
   "execution_count": 194,
   "metadata": {},
   "outputs": [],
   "source": [
    "X_train, X_test, y_train, y_test = model_selection.train_test_split(Data, label, \n",
    "                                                                    test_size=0.2,\n",
    "                                                                   random_state = 0)"
   ]
  },
  {
   "cell_type": "code",
   "execution_count": 195,
   "metadata": {},
   "outputs": [],
   "source": [
    "svm_svr = svm.SVC(kernel='rbf', C=15, gamma='scale')\n",
    "model = multiclass.OneVsRestClassifier(svm_svr, -1)"
   ]
  },
  {
   "cell_type": "code",
   "execution_count": 196,
   "metadata": {},
   "outputs": [
    {
     "name": "stdout",
     "output_type": "stream",
     "text": [
      "0.9281150159744409\n"
     ]
    }
   ],
   "source": [
    "clf = model.fit(X_train, y_train)\n",
    "score = clf.score(X_test, y_test)\n",
    "print(score)"
   ]
  }
 ],
 "metadata": {
  "kernelspec": {
   "display_name": "Python 3",
   "language": "python",
   "name": "python3"
  },
  "language_info": {
   "codemirror_mode": {
    "name": "ipython",
    "version": 3
   },
   "file_extension": ".py",
   "mimetype": "text/x-python",
   "name": "python",
   "nbconvert_exporter": "python",
   "pygments_lexer": "ipython3",
   "version": "3.7.1"
  }
 },
 "nbformat": 4,
 "nbformat_minor": 2
}
